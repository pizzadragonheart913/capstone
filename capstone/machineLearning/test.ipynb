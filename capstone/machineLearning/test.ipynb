{
 "cells": [
  {
   "cell_type": "code",
   "execution_count": null,
   "metadata": {},
   "outputs": [
    {
     "ename": "",
     "evalue": "",
     "output_type": "error",
     "traceback": [
      "\u001b[1;31mFailed to start the Kernel. \n",
      "E:\\conda\\envs\\capstone\\lib\\site-packages\\traitlets\\traitlets.py:2205: FutureWarning: Supporting extra quotes around strings is deprecated in traitlets 5.0. You can use 'hmac-sha256' instead of '\"hmac-sha256\"' if you require traitlets >=5.\r\n",
      "  FutureWarning)\r\n",
      "E:\\conda\\envs\\capstone\\lib\\site-packages\\traitlets\\traitlets.py:2160: FutureWarning: Supporting extra quotes around Bytes is deprecated in traitlets 5.0. Use 'f414cb48-a27a-4732-b308-7f85380dcc04' instead of 'b\"f414cb48-a27a-4732-b308-7f85380dcc04\"'.\r\n",
      "  FutureWarning)\r\n",
      "Bad file descriptor (C:\\projects\\libzmq\\src\\epoll.cpp:100). \n",
      "View Jupyter <a href='command:jupyter.viewOutput'>log</a> for further details."
     ]
    }
   ],
   "source": [
    "print(1)"
   ]
  }
 ],
 "metadata": {
  "interpreter": {
   "hash": "ec5ec080c05f40259dc689fe77c7de0dbef89850317b194c5eb3c0e3a294b8b3"
  },
  "kernelspec": {
   "display_name": "Python 3.7.3 ('capstone')",
   "language": "python",
   "name": "python3"
  },
  "language_info": {
   "name": "python",
   "version": "3.7.3"
  },
  "orig_nbformat": 4
 },
 "nbformat": 4,
 "nbformat_minor": 2
}
